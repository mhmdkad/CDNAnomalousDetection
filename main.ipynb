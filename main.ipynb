{
  "cells": [
    {
      "cell_type": "markdown",
      "metadata": {
        "id": "qZBFPoYeEfCB"
      },
      "source": [
        "## Libraries"
      ]
    },
    {
      "cell_type": "code",
      "execution_count": null,
      "metadata": {
        "id": "xiJyf9Bvg9vu"
      },
      "outputs": [],
      "source": [
        "import numpy as np\n",
        "import pandas as pd\n",
        "pd.options.display.float_format = '{:.2f}'.format\n",
        "import scipy\n",
        "\n",
        "import matplotlib.pyplot  as plt\n",
        "import seaborn as sns\n",
        "sns.set()\n",
        "\n",
        "from sklearn.preprocessing import StandardScaler\n",
        "from datetime import datetime\n",
        "\n",
        "# for feature selection\n",
        "import scipy.io\n",
        "\n",
        "# for one-hot encoder\n",
        "from sklearn.preprocessing import OneHotEncoder\n",
        "\n",
        "# for clustering\n",
        "from sklearn.cluster import KMeans\n",
        "from sklearn.cluster import AgglomerativeClustering\n",
        "# from kmodes.kmodes import KModes\n",
        "\n",
        "# for feature extraction\n",
        "from sklearn.decomposition import PCA\n",
        "\n",
        "# for HCA\n",
        "from scipy.cluster.hierarchy import dendrogram, linkage\n",
        "\n",
        "# for cluster evaluation\n",
        "## silhouette\n",
        "from sklearn.metrics import silhouette_score\n",
        "# for anomalous detection\n",
        "from sklearn.ensemble import IsolationForest"
      ]
    },
    {
      "cell_type": "markdown",
      "metadata": {
        "id": "aUFO8OdeEpET"
      },
      "source": [
        "## Import Data"
      ]
    },
    {
      "cell_type": "code",
      "execution_count": null,
      "metadata": {
        "id": "6DphvCApikCt"
      },
      "outputs": [],
      "source": [
        "csv_file = '2022-10-25 cdn_customer_qoe_anon.xlsx'"
      ]
    },
    {
      "cell_type": "code",
      "execution_count": null,
      "metadata": {
        "colab": {
          "base_uri": "https://localhost:8080/"
        },
        "id": "mK_WUs1njUsR",
        "outputId": "110ac08f-334d-4ad3-cb38-b0872582545e"
      },
      "outputs": [
        {
          "output_type": "stream",
          "name": "stdout",
          "text": [
            "Drive already mounted at /content/drive; to attempt to forcibly remount, call drive.mount(\"/content/drive\", force_remount=True).\n"
          ]
        }
      ],
      "source": [
        "from google.colab import drive\n",
        "drive.mount('/content/drive')\n",
        "\n",
        "df = pd.read_excel('/content/drive/My Drive/Colab Notebooks/DS_lab2/dataset/'+csv_file, 'cdn_customer_qoe_anon')"
      ]
    },
    {
      "cell_type": "code",
      "execution_count": null,
      "metadata": {
        "id": "7cw3bqPjMn_t"
      },
      "outputs": [],
      "source": [
        "# df = pd.read_excel('dataset/'+csv_file, 'cdn_customer_qoe_anon')"
      ]
    },
    {
      "cell_type": "code",
      "execution_count": null,
      "metadata": {
        "id": "q7vQGwglX2SU"
      },
      "outputs": [],
      "source": [
        "df_buffer = df.copy() "
      ]
    },
    {
      "cell_type": "code",
      "execution_count": null,
      "metadata": {
        "id": "NlL7UjPEoyBr"
      },
      "outputs": [],
      "source": [
        "df = df_buffer"
      ]
    },
    {
      "cell_type": "code",
      "execution_count": null,
      "metadata": {
        "id": "t9cobvrmjNRs",
        "colab": {
          "base_uri": "https://localhost:8080/",
          "height": 870
        },
        "outputId": "7a71bc55-9547-4a57-f3dd-1ea3c8f8f528"
      },
      "outputs": [
        {
          "output_type": "execute_result",
          "data": {
            "text/plain": [
              "        Column1          Start Time  Playtime  Effective Playtime  \\\n",
              "0             0 2022-07-12 00:00:14        11                  10   \n",
              "1             1 2022-07-12 00:00:38        73                  72   \n",
              "2             2 2022-07-12 00:02:02        21                  20   \n",
              "3             3 2022-07-12 00:02:24         1                   0   \n",
              "4             4 2022-07-12 00:02:25         1                   0   \n",
              "...         ...                 ...       ...                 ...   \n",
              "102251   102251 2022-07-25 23:06:05     15282                   0   \n",
              "102252   102252 2022-07-25 22:55:39     16582               16581   \n",
              "102253   102253 2022-07-25 23:09:33     21166                   0   \n",
              "102254   102254 2022-07-25 11:47:37     65122               65115   \n",
              "102255   102255 2022-07-25 14:07:08     75837               75717   \n",
              "\n",
              "        Interruptions  Join Time  Buffer Ratio CDN Node Host Connection Type  \\\n",
              "0                   0       0.88          0.00           NaN    Ethernet-100   \n",
              "1                   0       1.17          0.00           NaN          WiFi-5   \n",
              "2                   0       1.13          0.00           NaN          WiFi-5   \n",
              "3                   0       0.00          0.00           NaN          WiFi-5   \n",
              "4                   0       0.00          0.00           NaN          WiFi-5   \n",
              "...               ...        ...           ...           ...             ...   \n",
              "102251              0       0.00          0.00           NaN          Mobile   \n",
              "102252              0       0.99          0.00      11377663          WiFi-5   \n",
              "102253              0       0.00          0.00           NaN          WiFi-5   \n",
              "102254              2       6.10          0.00           NaN            None   \n",
              "102255              0     120.00          0.00           NaN          WiFi-5   \n",
              "\n",
              "               Device  ... End of Playback Status User_ID_N Title_N Program_N  \\\n",
              "0          Android TV  ...                On Stop       564     784         0   \n",
              "1          Android TV  ...                On Stop       480       1         0   \n",
              "2          Android TV  ...                On Stop       346     786         0   \n",
              "3          Android TV  ...                On Stop       346     997         0   \n",
              "4          Android TV  ...                On Stop       346     997         0   \n",
              "...               ...  ...                    ...       ...     ...       ...   \n",
              "102251         iPhone  ...                On Stop       570    1504         0   \n",
              "102252     Android TV  ...                On Stop       475    1014         0   \n",
              "102253        Android  ...                On Stop       249    1076         0   \n",
              "102254  PC( Windows )  ...                On Stop       622    1437         0   \n",
              "102255        Android  ...                On Stop       101     902         0   \n",
              "\n",
              "       Device_Vendor_N Device_Model_N Content_TV_Show_N  Country_N  City_N  \\\n",
              "0                   16             64              2672          3     263   \n",
              "1                   13             63              2672          3      76   \n",
              "2                   13             63              2672          3      76   \n",
              "3                   13             63              2672          3      76   \n",
              "4                   13             63              2672          3      76   \n",
              "...                ...            ...               ...        ...     ...   \n",
              "102251               2            153              2434          3     367   \n",
              "102252              13             63              2672          3      39   \n",
              "102253              16             41              2672          3      56   \n",
              "102254               8            158               694          3      56   \n",
              "102255              13             15              2672          3     263   \n",
              "\n",
              "        Region_N  \n",
              "0              0  \n",
              "1              0  \n",
              "2              0  \n",
              "3              0  \n",
              "4              0  \n",
              "...          ...  \n",
              "102251         0  \n",
              "102252         0  \n",
              "102253         0  \n",
              "102254         0  \n",
              "102255         0  \n",
              "\n",
              "[102256 rows x 33 columns]"
            ],
            "text/html": [
              "\n",
              "  <div id=\"df-d16403f7-5f33-4426-92e9-a050ee111169\">\n",
              "    <div class=\"colab-df-container\">\n",
              "      <div>\n",
              "<style scoped>\n",
              "    .dataframe tbody tr th:only-of-type {\n",
              "        vertical-align: middle;\n",
              "    }\n",
              "\n",
              "    .dataframe tbody tr th {\n",
              "        vertical-align: top;\n",
              "    }\n",
              "\n",
              "    .dataframe thead th {\n",
              "        text-align: right;\n",
              "    }\n",
              "</style>\n",
              "<table border=\"1\" class=\"dataframe\">\n",
              "  <thead>\n",
              "    <tr style=\"text-align: right;\">\n",
              "      <th></th>\n",
              "      <th>Column1</th>\n",
              "      <th>Start Time</th>\n",
              "      <th>Playtime</th>\n",
              "      <th>Effective Playtime</th>\n",
              "      <th>Interruptions</th>\n",
              "      <th>Join Time</th>\n",
              "      <th>Buffer Ratio</th>\n",
              "      <th>CDN Node Host</th>\n",
              "      <th>Connection Type</th>\n",
              "      <th>Device</th>\n",
              "      <th>...</th>\n",
              "      <th>End of Playback Status</th>\n",
              "      <th>User_ID_N</th>\n",
              "      <th>Title_N</th>\n",
              "      <th>Program_N</th>\n",
              "      <th>Device_Vendor_N</th>\n",
              "      <th>Device_Model_N</th>\n",
              "      <th>Content_TV_Show_N</th>\n",
              "      <th>Country_N</th>\n",
              "      <th>City_N</th>\n",
              "      <th>Region_N</th>\n",
              "    </tr>\n",
              "  </thead>\n",
              "  <tbody>\n",
              "    <tr>\n",
              "      <th>0</th>\n",
              "      <td>0</td>\n",
              "      <td>2022-07-12 00:00:14</td>\n",
              "      <td>11</td>\n",
              "      <td>10</td>\n",
              "      <td>0</td>\n",
              "      <td>0.88</td>\n",
              "      <td>0.00</td>\n",
              "      <td>NaN</td>\n",
              "      <td>Ethernet-100</td>\n",
              "      <td>Android TV</td>\n",
              "      <td>...</td>\n",
              "      <td>On Stop</td>\n",
              "      <td>564</td>\n",
              "      <td>784</td>\n",
              "      <td>0</td>\n",
              "      <td>16</td>\n",
              "      <td>64</td>\n",
              "      <td>2672</td>\n",
              "      <td>3</td>\n",
              "      <td>263</td>\n",
              "      <td>0</td>\n",
              "    </tr>\n",
              "    <tr>\n",
              "      <th>1</th>\n",
              "      <td>1</td>\n",
              "      <td>2022-07-12 00:00:38</td>\n",
              "      <td>73</td>\n",
              "      <td>72</td>\n",
              "      <td>0</td>\n",
              "      <td>1.17</td>\n",
              "      <td>0.00</td>\n",
              "      <td>NaN</td>\n",
              "      <td>WiFi-5</td>\n",
              "      <td>Android TV</td>\n",
              "      <td>...</td>\n",
              "      <td>On Stop</td>\n",
              "      <td>480</td>\n",
              "      <td>1</td>\n",
              "      <td>0</td>\n",
              "      <td>13</td>\n",
              "      <td>63</td>\n",
              "      <td>2672</td>\n",
              "      <td>3</td>\n",
              "      <td>76</td>\n",
              "      <td>0</td>\n",
              "    </tr>\n",
              "    <tr>\n",
              "      <th>2</th>\n",
              "      <td>2</td>\n",
              "      <td>2022-07-12 00:02:02</td>\n",
              "      <td>21</td>\n",
              "      <td>20</td>\n",
              "      <td>0</td>\n",
              "      <td>1.13</td>\n",
              "      <td>0.00</td>\n",
              "      <td>NaN</td>\n",
              "      <td>WiFi-5</td>\n",
              "      <td>Android TV</td>\n",
              "      <td>...</td>\n",
              "      <td>On Stop</td>\n",
              "      <td>346</td>\n",
              "      <td>786</td>\n",
              "      <td>0</td>\n",
              "      <td>13</td>\n",
              "      <td>63</td>\n",
              "      <td>2672</td>\n",
              "      <td>3</td>\n",
              "      <td>76</td>\n",
              "      <td>0</td>\n",
              "    </tr>\n",
              "    <tr>\n",
              "      <th>3</th>\n",
              "      <td>3</td>\n",
              "      <td>2022-07-12 00:02:24</td>\n",
              "      <td>1</td>\n",
              "      <td>0</td>\n",
              "      <td>0</td>\n",
              "      <td>0.00</td>\n",
              "      <td>0.00</td>\n",
              "      <td>NaN</td>\n",
              "      <td>WiFi-5</td>\n",
              "      <td>Android TV</td>\n",
              "      <td>...</td>\n",
              "      <td>On Stop</td>\n",
              "      <td>346</td>\n",
              "      <td>997</td>\n",
              "      <td>0</td>\n",
              "      <td>13</td>\n",
              "      <td>63</td>\n",
              "      <td>2672</td>\n",
              "      <td>3</td>\n",
              "      <td>76</td>\n",
              "      <td>0</td>\n",
              "    </tr>\n",
              "    <tr>\n",
              "      <th>4</th>\n",
              "      <td>4</td>\n",
              "      <td>2022-07-12 00:02:25</td>\n",
              "      <td>1</td>\n",
              "      <td>0</td>\n",
              "      <td>0</td>\n",
              "      <td>0.00</td>\n",
              "      <td>0.00</td>\n",
              "      <td>NaN</td>\n",
              "      <td>WiFi-5</td>\n",
              "      <td>Android TV</td>\n",
              "      <td>...</td>\n",
              "      <td>On Stop</td>\n",
              "      <td>346</td>\n",
              "      <td>997</td>\n",
              "      <td>0</td>\n",
              "      <td>13</td>\n",
              "      <td>63</td>\n",
              "      <td>2672</td>\n",
              "      <td>3</td>\n",
              "      <td>76</td>\n",
              "      <td>0</td>\n",
              "    </tr>\n",
              "    <tr>\n",
              "      <th>...</th>\n",
              "      <td>...</td>\n",
              "      <td>...</td>\n",
              "      <td>...</td>\n",
              "      <td>...</td>\n",
              "      <td>...</td>\n",
              "      <td>...</td>\n",
              "      <td>...</td>\n",
              "      <td>...</td>\n",
              "      <td>...</td>\n",
              "      <td>...</td>\n",
              "      <td>...</td>\n",
              "      <td>...</td>\n",
              "      <td>...</td>\n",
              "      <td>...</td>\n",
              "      <td>...</td>\n",
              "      <td>...</td>\n",
              "      <td>...</td>\n",
              "      <td>...</td>\n",
              "      <td>...</td>\n",
              "      <td>...</td>\n",
              "      <td>...</td>\n",
              "    </tr>\n",
              "    <tr>\n",
              "      <th>102251</th>\n",
              "      <td>102251</td>\n",
              "      <td>2022-07-25 23:06:05</td>\n",
              "      <td>15282</td>\n",
              "      <td>0</td>\n",
              "      <td>0</td>\n",
              "      <td>0.00</td>\n",
              "      <td>0.00</td>\n",
              "      <td>NaN</td>\n",
              "      <td>Mobile</td>\n",
              "      <td>iPhone</td>\n",
              "      <td>...</td>\n",
              "      <td>On Stop</td>\n",
              "      <td>570</td>\n",
              "      <td>1504</td>\n",
              "      <td>0</td>\n",
              "      <td>2</td>\n",
              "      <td>153</td>\n",
              "      <td>2434</td>\n",
              "      <td>3</td>\n",
              "      <td>367</td>\n",
              "      <td>0</td>\n",
              "    </tr>\n",
              "    <tr>\n",
              "      <th>102252</th>\n",
              "      <td>102252</td>\n",
              "      <td>2022-07-25 22:55:39</td>\n",
              "      <td>16582</td>\n",
              "      <td>16581</td>\n",
              "      <td>0</td>\n",
              "      <td>0.99</td>\n",
              "      <td>0.00</td>\n",
              "      <td>11377663</td>\n",
              "      <td>WiFi-5</td>\n",
              "      <td>Android TV</td>\n",
              "      <td>...</td>\n",
              "      <td>On Stop</td>\n",
              "      <td>475</td>\n",
              "      <td>1014</td>\n",
              "      <td>0</td>\n",
              "      <td>13</td>\n",
              "      <td>63</td>\n",
              "      <td>2672</td>\n",
              "      <td>3</td>\n",
              "      <td>39</td>\n",
              "      <td>0</td>\n",
              "    </tr>\n",
              "    <tr>\n",
              "      <th>102253</th>\n",
              "      <td>102253</td>\n",
              "      <td>2022-07-25 23:09:33</td>\n",
              "      <td>21166</td>\n",
              "      <td>0</td>\n",
              "      <td>0</td>\n",
              "      <td>0.00</td>\n",
              "      <td>0.00</td>\n",
              "      <td>NaN</td>\n",
              "      <td>WiFi-5</td>\n",
              "      <td>Android</td>\n",
              "      <td>...</td>\n",
              "      <td>On Stop</td>\n",
              "      <td>249</td>\n",
              "      <td>1076</td>\n",
              "      <td>0</td>\n",
              "      <td>16</td>\n",
              "      <td>41</td>\n",
              "      <td>2672</td>\n",
              "      <td>3</td>\n",
              "      <td>56</td>\n",
              "      <td>0</td>\n",
              "    </tr>\n",
              "    <tr>\n",
              "      <th>102254</th>\n",
              "      <td>102254</td>\n",
              "      <td>2022-07-25 11:47:37</td>\n",
              "      <td>65122</td>\n",
              "      <td>65115</td>\n",
              "      <td>2</td>\n",
              "      <td>6.10</td>\n",
              "      <td>0.00</td>\n",
              "      <td>NaN</td>\n",
              "      <td>None</td>\n",
              "      <td>PC( Windows )</td>\n",
              "      <td>...</td>\n",
              "      <td>On Stop</td>\n",
              "      <td>622</td>\n",
              "      <td>1437</td>\n",
              "      <td>0</td>\n",
              "      <td>8</td>\n",
              "      <td>158</td>\n",
              "      <td>694</td>\n",
              "      <td>3</td>\n",
              "      <td>56</td>\n",
              "      <td>0</td>\n",
              "    </tr>\n",
              "    <tr>\n",
              "      <th>102255</th>\n",
              "      <td>102255</td>\n",
              "      <td>2022-07-25 14:07:08</td>\n",
              "      <td>75837</td>\n",
              "      <td>75717</td>\n",
              "      <td>0</td>\n",
              "      <td>120.00</td>\n",
              "      <td>0.00</td>\n",
              "      <td>NaN</td>\n",
              "      <td>WiFi-5</td>\n",
              "      <td>Android</td>\n",
              "      <td>...</td>\n",
              "      <td>On Stop</td>\n",
              "      <td>101</td>\n",
              "      <td>902</td>\n",
              "      <td>0</td>\n",
              "      <td>13</td>\n",
              "      <td>15</td>\n",
              "      <td>2672</td>\n",
              "      <td>3</td>\n",
              "      <td>263</td>\n",
              "      <td>0</td>\n",
              "    </tr>\n",
              "  </tbody>\n",
              "</table>\n",
              "<p>102256 rows × 33 columns</p>\n",
              "</div>\n",
              "      <button class=\"colab-df-convert\" onclick=\"convertToInteractive('df-d16403f7-5f33-4426-92e9-a050ee111169')\"\n",
              "              title=\"Convert this dataframe to an interactive table.\"\n",
              "              style=\"display:none;\">\n",
              "        \n",
              "  <svg xmlns=\"http://www.w3.org/2000/svg\" height=\"24px\"viewBox=\"0 0 24 24\"\n",
              "       width=\"24px\">\n",
              "    <path d=\"M0 0h24v24H0V0z\" fill=\"none\"/>\n",
              "    <path d=\"M18.56 5.44l.94 2.06.94-2.06 2.06-.94-2.06-.94-.94-2.06-.94 2.06-2.06.94zm-11 1L8.5 8.5l.94-2.06 2.06-.94-2.06-.94L8.5 2.5l-.94 2.06-2.06.94zm10 10l.94 2.06.94-2.06 2.06-.94-2.06-.94-.94-2.06-.94 2.06-2.06.94z\"/><path d=\"M17.41 7.96l-1.37-1.37c-.4-.4-.92-.59-1.43-.59-.52 0-1.04.2-1.43.59L10.3 9.45l-7.72 7.72c-.78.78-.78 2.05 0 2.83L4 21.41c.39.39.9.59 1.41.59.51 0 1.02-.2 1.41-.59l7.78-7.78 2.81-2.81c.8-.78.8-2.07 0-2.86zM5.41 20L4 18.59l7.72-7.72 1.47 1.35L5.41 20z\"/>\n",
              "  </svg>\n",
              "      </button>\n",
              "      \n",
              "  <style>\n",
              "    .colab-df-container {\n",
              "      display:flex;\n",
              "      flex-wrap:wrap;\n",
              "      gap: 12px;\n",
              "    }\n",
              "\n",
              "    .colab-df-convert {\n",
              "      background-color: #E8F0FE;\n",
              "      border: none;\n",
              "      border-radius: 50%;\n",
              "      cursor: pointer;\n",
              "      display: none;\n",
              "      fill: #1967D2;\n",
              "      height: 32px;\n",
              "      padding: 0 0 0 0;\n",
              "      width: 32px;\n",
              "    }\n",
              "\n",
              "    .colab-df-convert:hover {\n",
              "      background-color: #E2EBFA;\n",
              "      box-shadow: 0px 1px 2px rgba(60, 64, 67, 0.3), 0px 1px 3px 1px rgba(60, 64, 67, 0.15);\n",
              "      fill: #174EA6;\n",
              "    }\n",
              "\n",
              "    [theme=dark] .colab-df-convert {\n",
              "      background-color: #3B4455;\n",
              "      fill: #D2E3FC;\n",
              "    }\n",
              "\n",
              "    [theme=dark] .colab-df-convert:hover {\n",
              "      background-color: #434B5C;\n",
              "      box-shadow: 0px 1px 3px 1px rgba(0, 0, 0, 0.15);\n",
              "      filter: drop-shadow(0px 1px 2px rgba(0, 0, 0, 0.3));\n",
              "      fill: #FFFFFF;\n",
              "    }\n",
              "  </style>\n",
              "\n",
              "      <script>\n",
              "        const buttonEl =\n",
              "          document.querySelector('#df-d16403f7-5f33-4426-92e9-a050ee111169 button.colab-df-convert');\n",
              "        buttonEl.style.display =\n",
              "          google.colab.kernel.accessAllowed ? 'block' : 'none';\n",
              "\n",
              "        async function convertToInteractive(key) {\n",
              "          const element = document.querySelector('#df-d16403f7-5f33-4426-92e9-a050ee111169');\n",
              "          const dataTable =\n",
              "            await google.colab.kernel.invokeFunction('convertToInteractive',\n",
              "                                                     [key], {});\n",
              "          if (!dataTable) return;\n",
              "\n",
              "          const docLinkHtml = 'Like what you see? Visit the ' +\n",
              "            '<a target=\"_blank\" href=https://colab.research.google.com/notebooks/data_table.ipynb>data table notebook</a>'\n",
              "            + ' to learn more about interactive tables.';\n",
              "          element.innerHTML = '';\n",
              "          dataTable['output_type'] = 'display_data';\n",
              "          await google.colab.output.renderOutput(dataTable, element);\n",
              "          const docLink = document.createElement('div');\n",
              "          docLink.innerHTML = docLinkHtml;\n",
              "          element.appendChild(docLink);\n",
              "        }\n",
              "      </script>\n",
              "    </div>\n",
              "  </div>\n",
              "  "
            ]
          },
          "metadata": {},
          "execution_count": 38
        }
      ],
      "source": [
        "df"
      ]
    },
    {
      "cell_type": "code",
      "execution_count": null,
      "metadata": {
        "id": "5aNMPDThMn_u",
        "outputId": "6de8a4de-714b-4ab5-c9c4-db0c7092b215",
        "colab": {
          "base_uri": "https://localhost:8080/"
        }
      },
      "outputs": [
        {
          "output_type": "execute_result",
          "data": {
            "text/plain": [
              "Index(['Column1', 'Playtime', 'Effective Playtime', 'Interruptions',\n",
              "       'Join Time', 'Buffer Ratio', 'Happiness Score', 'Playback Stalls',\n",
              "       'Startup Error (Count)', 'Latency', 'User_ID_N', 'Title_N', 'Program_N',\n",
              "       'Device_Vendor_N', 'Device_Model_N', 'Content_TV_Show_N', 'Country_N',\n",
              "       'City_N', 'Region_N'],\n",
              "      dtype='object')"
            ]
          },
          "metadata": {},
          "execution_count": 7
        }
      ],
      "source": [
        "# bringing the Numerical valued attributes names\n",
        "# ====================================================\n",
        "numerics = ['int16', 'int32', 'int64', 'float16', 'float32', 'float64']\n",
        "df.select_dtypes(include=numerics).columns\n",
        "\n",
        "## 19 columns"
      ]
    },
    {
      "cell_type": "code",
      "execution_count": null,
      "metadata": {
        "id": "8FpHhlfAMn_v",
        "outputId": "afda55f3-1b61-4378-fd31-5235c00fd530",
        "colab": {
          "base_uri": "https://localhost:8080/"
        }
      },
      "outputs": [
        {
          "output_type": "execute_result",
          "data": {
            "text/plain": [
              "Index(['CDN Node Host', 'Connection Type', 'Device', 'Device Type', 'Browser',\n",
              "       'Browser Version', 'OS', 'OS Version', 'Device ID', 'Happiness Value',\n",
              "       'Crash Status', 'End of Playback Status'],\n",
              "      dtype='object')"
            ]
          },
          "metadata": {},
          "execution_count": 8
        }
      ],
      "source": [
        "# bringing the Categorical object valued attributes names\n",
        "# ====================================================\n",
        "df.select_dtypes(include=['object']).columns\n",
        "\n",
        "## 12 columns"
      ]
    },
    {
      "cell_type": "code",
      "execution_count": null,
      "metadata": {
        "id": "lLfQPHOAMn_w"
      },
      "outputs": [],
      "source": [
        "# Date attributes names\n",
        "# ====================================================\n",
        "\n",
        "# ['Start Time, 'End Time']\n",
        "\n",
        "## 2 columns"
      ]
    },
    {
      "cell_type": "markdown",
      "metadata": {
        "id": "qyW09AhPExF0"
      },
      "source": [
        "## Explore Data"
      ]
    },
    {
      "cell_type": "code",
      "execution_count": null,
      "metadata": {
        "id": "JCWFn3XhMn_w"
      },
      "outputs": [],
      "source": [
        "df[['Start Time', 'End Time']]\n",
        "\n",
        "# the time series is observed over the period of 2 weeks\n",
        "# the difference between start time and end time almost fixed: 2 months and 22 days"
      ]
    },
    {
      "cell_type": "code",
      "execution_count": null,
      "metadata": {
        "id": "PQARXXUPjQSs",
        "colab": {
          "base_uri": "https://localhost:8080/",
          "height": 399
        },
        "outputId": "4efc0e16-7c94-4ca0-ea89-69f7753893ef"
      },
      "outputs": [
        {
          "output_type": "execute_result",
          "data": {
            "text/plain": [
              "        Column1  Playtime  Effective Playtime  Interruptions  Join Time  \\\n",
              "count 102256.00 102256.00           102256.00      102256.00  102256.00   \n",
              "mean   51127.50    328.97              288.34           0.10       1.16   \n",
              "std    29518.91   1799.36             1697.49          12.01       2.84   \n",
              "min        0.00      0.00                0.00           0.00       0.00   \n",
              "25%    25563.75      4.00                1.00           0.00       0.58   \n",
              "50%    51127.50     22.00               17.00           0.00       0.79   \n",
              "75%    76691.25     90.00               75.00           0.00       1.30   \n",
              "max   102255.00  86404.00            86402.00        3786.00     120.00   \n",
              "\n",
              "       Buffer Ratio  Happiness Score  Playback Stalls  Startup Error (Count)  \\\n",
              "count     102256.00        102256.00        102256.00              102256.00   \n",
              "mean           0.26             5.17             0.00                   0.01   \n",
              "std            3.57             4.38             0.20                   0.12   \n",
              "min            0.00            -1.00             0.00                   0.00   \n",
              "25%            0.00             0.00             0.00                   0.00   \n",
              "50%            0.00             6.65             0.00                   0.00   \n",
              "75%            0.00             9.61             0.00                   0.00   \n",
              "max          100.00            10.00            44.41                   1.00   \n",
              "\n",
              "        Latency  User_ID_N   Title_N  Program_N  Device_Vendor_N  \\\n",
              "count 102256.00  102256.00 102256.00  102256.00        102256.00   \n",
              "mean   13360.82     392.98    809.66       0.00            13.13   \n",
              "std    23550.86     161.31    527.74       0.00             4.62   \n",
              "min        0.00       0.00      0.00       0.00             0.00   \n",
              "25%        0.00     295.00    261.00       0.00            13.00   \n",
              "50%    17862.00     383.00    997.00       0.00            15.00   \n",
              "75%    19235.00     487.00   1170.25       0.00            16.00   \n",
              "max   359477.00     699.00   1638.00       0.00            24.00   \n",
              "\n",
              "       Device_Model_N  Content_TV_Show_N  Country_N    City_N  Region_N  \n",
              "count       102256.00          102256.00  102256.00 102256.00 102256.00  \n",
              "mean            69.46            2421.41       3.93    150.77      0.03  \n",
              "std             33.35             631.70       2.55    107.74      0.16  \n",
              "min              0.00               0.00       0.00      0.00      0.00  \n",
              "25%             63.00            2672.00       3.00     76.00      0.00  \n",
              "50%             64.00            2672.00       3.00     76.00      0.00  \n",
              "75%             64.00            2672.00       3.00    240.00      0.00  \n",
              "max            163.00            2746.00      14.00    405.00      1.00  "
            ],
            "text/html": [
              "\n",
              "  <div id=\"df-58e0b08f-a08e-4982-b7f3-321be745ea2b\">\n",
              "    <div class=\"colab-df-container\">\n",
              "      <div>\n",
              "<style scoped>\n",
              "    .dataframe tbody tr th:only-of-type {\n",
              "        vertical-align: middle;\n",
              "    }\n",
              "\n",
              "    .dataframe tbody tr th {\n",
              "        vertical-align: top;\n",
              "    }\n",
              "\n",
              "    .dataframe thead th {\n",
              "        text-align: right;\n",
              "    }\n",
              "</style>\n",
              "<table border=\"1\" class=\"dataframe\">\n",
              "  <thead>\n",
              "    <tr style=\"text-align: right;\">\n",
              "      <th></th>\n",
              "      <th>Column1</th>\n",
              "      <th>Playtime</th>\n",
              "      <th>Effective Playtime</th>\n",
              "      <th>Interruptions</th>\n",
              "      <th>Join Time</th>\n",
              "      <th>Buffer Ratio</th>\n",
              "      <th>Happiness Score</th>\n",
              "      <th>Playback Stalls</th>\n",
              "      <th>Startup Error (Count)</th>\n",
              "      <th>Latency</th>\n",
              "      <th>User_ID_N</th>\n",
              "      <th>Title_N</th>\n",
              "      <th>Program_N</th>\n",
              "      <th>Device_Vendor_N</th>\n",
              "      <th>Device_Model_N</th>\n",
              "      <th>Content_TV_Show_N</th>\n",
              "      <th>Country_N</th>\n",
              "      <th>City_N</th>\n",
              "      <th>Region_N</th>\n",
              "    </tr>\n",
              "  </thead>\n",
              "  <tbody>\n",
              "    <tr>\n",
              "      <th>count</th>\n",
              "      <td>102256.00</td>\n",
              "      <td>102256.00</td>\n",
              "      <td>102256.00</td>\n",
              "      <td>102256.00</td>\n",
              "      <td>102256.00</td>\n",
              "      <td>102256.00</td>\n",
              "      <td>102256.00</td>\n",
              "      <td>102256.00</td>\n",
              "      <td>102256.00</td>\n",
              "      <td>102256.00</td>\n",
              "      <td>102256.00</td>\n",
              "      <td>102256.00</td>\n",
              "      <td>102256.00</td>\n",
              "      <td>102256.00</td>\n",
              "      <td>102256.00</td>\n",
              "      <td>102256.00</td>\n",
              "      <td>102256.00</td>\n",
              "      <td>102256.00</td>\n",
              "      <td>102256.00</td>\n",
              "    </tr>\n",
              "    <tr>\n",
              "      <th>mean</th>\n",
              "      <td>51127.50</td>\n",
              "      <td>328.97</td>\n",
              "      <td>288.34</td>\n",
              "      <td>0.10</td>\n",
              "      <td>1.16</td>\n",
              "      <td>0.26</td>\n",
              "      <td>5.17</td>\n",
              "      <td>0.00</td>\n",
              "      <td>0.01</td>\n",
              "      <td>13360.82</td>\n",
              "      <td>392.98</td>\n",
              "      <td>809.66</td>\n",
              "      <td>0.00</td>\n",
              "      <td>13.13</td>\n",
              "      <td>69.46</td>\n",
              "      <td>2421.41</td>\n",
              "      <td>3.93</td>\n",
              "      <td>150.77</td>\n",
              "      <td>0.03</td>\n",
              "    </tr>\n",
              "    <tr>\n",
              "      <th>std</th>\n",
              "      <td>29518.91</td>\n",
              "      <td>1799.36</td>\n",
              "      <td>1697.49</td>\n",
              "      <td>12.01</td>\n",
              "      <td>2.84</td>\n",
              "      <td>3.57</td>\n",
              "      <td>4.38</td>\n",
              "      <td>0.20</td>\n",
              "      <td>0.12</td>\n",
              "      <td>23550.86</td>\n",
              "      <td>161.31</td>\n",
              "      <td>527.74</td>\n",
              "      <td>0.00</td>\n",
              "      <td>4.62</td>\n",
              "      <td>33.35</td>\n",
              "      <td>631.70</td>\n",
              "      <td>2.55</td>\n",
              "      <td>107.74</td>\n",
              "      <td>0.16</td>\n",
              "    </tr>\n",
              "    <tr>\n",
              "      <th>min</th>\n",
              "      <td>0.00</td>\n",
              "      <td>0.00</td>\n",
              "      <td>0.00</td>\n",
              "      <td>0.00</td>\n",
              "      <td>0.00</td>\n",
              "      <td>0.00</td>\n",
              "      <td>-1.00</td>\n",
              "      <td>0.00</td>\n",
              "      <td>0.00</td>\n",
              "      <td>0.00</td>\n",
              "      <td>0.00</td>\n",
              "      <td>0.00</td>\n",
              "      <td>0.00</td>\n",
              "      <td>0.00</td>\n",
              "      <td>0.00</td>\n",
              "      <td>0.00</td>\n",
              "      <td>0.00</td>\n",
              "      <td>0.00</td>\n",
              "      <td>0.00</td>\n",
              "    </tr>\n",
              "    <tr>\n",
              "      <th>25%</th>\n",
              "      <td>25563.75</td>\n",
              "      <td>4.00</td>\n",
              "      <td>1.00</td>\n",
              "      <td>0.00</td>\n",
              "      <td>0.58</td>\n",
              "      <td>0.00</td>\n",
              "      <td>0.00</td>\n",
              "      <td>0.00</td>\n",
              "      <td>0.00</td>\n",
              "      <td>0.00</td>\n",
              "      <td>295.00</td>\n",
              "      <td>261.00</td>\n",
              "      <td>0.00</td>\n",
              "      <td>13.00</td>\n",
              "      <td>63.00</td>\n",
              "      <td>2672.00</td>\n",
              "      <td>3.00</td>\n",
              "      <td>76.00</td>\n",
              "      <td>0.00</td>\n",
              "    </tr>\n",
              "    <tr>\n",
              "      <th>50%</th>\n",
              "      <td>51127.50</td>\n",
              "      <td>22.00</td>\n",
              "      <td>17.00</td>\n",
              "      <td>0.00</td>\n",
              "      <td>0.79</td>\n",
              "      <td>0.00</td>\n",
              "      <td>6.65</td>\n",
              "      <td>0.00</td>\n",
              "      <td>0.00</td>\n",
              "      <td>17862.00</td>\n",
              "      <td>383.00</td>\n",
              "      <td>997.00</td>\n",
              "      <td>0.00</td>\n",
              "      <td>15.00</td>\n",
              "      <td>64.00</td>\n",
              "      <td>2672.00</td>\n",
              "      <td>3.00</td>\n",
              "      <td>76.00</td>\n",
              "      <td>0.00</td>\n",
              "    </tr>\n",
              "    <tr>\n",
              "      <th>75%</th>\n",
              "      <td>76691.25</td>\n",
              "      <td>90.00</td>\n",
              "      <td>75.00</td>\n",
              "      <td>0.00</td>\n",
              "      <td>1.30</td>\n",
              "      <td>0.00</td>\n",
              "      <td>9.61</td>\n",
              "      <td>0.00</td>\n",
              "      <td>0.00</td>\n",
              "      <td>19235.00</td>\n",
              "      <td>487.00</td>\n",
              "      <td>1170.25</td>\n",
              "      <td>0.00</td>\n",
              "      <td>16.00</td>\n",
              "      <td>64.00</td>\n",
              "      <td>2672.00</td>\n",
              "      <td>3.00</td>\n",
              "      <td>240.00</td>\n",
              "      <td>0.00</td>\n",
              "    </tr>\n",
              "    <tr>\n",
              "      <th>max</th>\n",
              "      <td>102255.00</td>\n",
              "      <td>86404.00</td>\n",
              "      <td>86402.00</td>\n",
              "      <td>3786.00</td>\n",
              "      <td>120.00</td>\n",
              "      <td>100.00</td>\n",
              "      <td>10.00</td>\n",
              "      <td>44.41</td>\n",
              "      <td>1.00</td>\n",
              "      <td>359477.00</td>\n",
              "      <td>699.00</td>\n",
              "      <td>1638.00</td>\n",
              "      <td>0.00</td>\n",
              "      <td>24.00</td>\n",
              "      <td>163.00</td>\n",
              "      <td>2746.00</td>\n",
              "      <td>14.00</td>\n",
              "      <td>405.00</td>\n",
              "      <td>1.00</td>\n",
              "    </tr>\n",
              "  </tbody>\n",
              "</table>\n",
              "</div>\n",
              "      <button class=\"colab-df-convert\" onclick=\"convertToInteractive('df-58e0b08f-a08e-4982-b7f3-321be745ea2b')\"\n",
              "              title=\"Convert this dataframe to an interactive table.\"\n",
              "              style=\"display:none;\">\n",
              "        \n",
              "  <svg xmlns=\"http://www.w3.org/2000/svg\" height=\"24px\"viewBox=\"0 0 24 24\"\n",
              "       width=\"24px\">\n",
              "    <path d=\"M0 0h24v24H0V0z\" fill=\"none\"/>\n",
              "    <path d=\"M18.56 5.44l.94 2.06.94-2.06 2.06-.94-2.06-.94-.94-2.06-.94 2.06-2.06.94zm-11 1L8.5 8.5l.94-2.06 2.06-.94-2.06-.94L8.5 2.5l-.94 2.06-2.06.94zm10 10l.94 2.06.94-2.06 2.06-.94-2.06-.94-.94-2.06-.94 2.06-2.06.94z\"/><path d=\"M17.41 7.96l-1.37-1.37c-.4-.4-.92-.59-1.43-.59-.52 0-1.04.2-1.43.59L10.3 9.45l-7.72 7.72c-.78.78-.78 2.05 0 2.83L4 21.41c.39.39.9.59 1.41.59.51 0 1.02-.2 1.41-.59l7.78-7.78 2.81-2.81c.8-.78.8-2.07 0-2.86zM5.41 20L4 18.59l7.72-7.72 1.47 1.35L5.41 20z\"/>\n",
              "  </svg>\n",
              "      </button>\n",
              "      \n",
              "  <style>\n",
              "    .colab-df-container {\n",
              "      display:flex;\n",
              "      flex-wrap:wrap;\n",
              "      gap: 12px;\n",
              "    }\n",
              "\n",
              "    .colab-df-convert {\n",
              "      background-color: #E8F0FE;\n",
              "      border: none;\n",
              "      border-radius: 50%;\n",
              "      cursor: pointer;\n",
              "      display: none;\n",
              "      fill: #1967D2;\n",
              "      height: 32px;\n",
              "      padding: 0 0 0 0;\n",
              "      width: 32px;\n",
              "    }\n",
              "\n",
              "    .colab-df-convert:hover {\n",
              "      background-color: #E2EBFA;\n",
              "      box-shadow: 0px 1px 2px rgba(60, 64, 67, 0.3), 0px 1px 3px 1px rgba(60, 64, 67, 0.15);\n",
              "      fill: #174EA6;\n",
              "    }\n",
              "\n",
              "    [theme=dark] .colab-df-convert {\n",
              "      background-color: #3B4455;\n",
              "      fill: #D2E3FC;\n",
              "    }\n",
              "\n",
              "    [theme=dark] .colab-df-convert:hover {\n",
              "      background-color: #434B5C;\n",
              "      box-shadow: 0px 1px 3px 1px rgba(0, 0, 0, 0.15);\n",
              "      filter: drop-shadow(0px 1px 2px rgba(0, 0, 0, 0.3));\n",
              "      fill: #FFFFFF;\n",
              "    }\n",
              "  </style>\n",
              "\n",
              "      <script>\n",
              "        const buttonEl =\n",
              "          document.querySelector('#df-58e0b08f-a08e-4982-b7f3-321be745ea2b button.colab-df-convert');\n",
              "        buttonEl.style.display =\n",
              "          google.colab.kernel.accessAllowed ? 'block' : 'none';\n",
              "\n",
              "        async function convertToInteractive(key) {\n",
              "          const element = document.querySelector('#df-58e0b08f-a08e-4982-b7f3-321be745ea2b');\n",
              "          const dataTable =\n",
              "            await google.colab.kernel.invokeFunction('convertToInteractive',\n",
              "                                                     [key], {});\n",
              "          if (!dataTable) return;\n",
              "\n",
              "          const docLinkHtml = 'Like what you see? Visit the ' +\n",
              "            '<a target=\"_blank\" href=https://colab.research.google.com/notebooks/data_table.ipynb>data table notebook</a>'\n",
              "            + ' to learn more about interactive tables.';\n",
              "          element.innerHTML = '';\n",
              "          dataTable['output_type'] = 'display_data';\n",
              "          await google.colab.output.renderOutput(dataTable, element);\n",
              "          const docLink = document.createElement('div');\n",
              "          docLink.innerHTML = docLinkHtml;\n",
              "          element.appendChild(docLink);\n",
              "        }\n",
              "      </script>\n",
              "    </div>\n",
              "  </div>\n",
              "  "
            ]
          },
          "metadata": {},
          "execution_count": 10
        }
      ],
      "source": [
        "df.describe()"
      ]
    },
    {
      "cell_type": "markdown",
      "source": [
        "### QoE metrice effect on playtime"
      ],
      "metadata": {
        "id": "_KzOuqgoTtlZ"
      }
    },
    {
      "cell_type": "code",
      "source": [
        "plt.plot( df[\"Buffer Ratio\"],df[\"Effective Playtime\"], 'bo')"
      ],
      "metadata": {
        "colab": {
          "base_uri": "https://localhost:8080/",
          "height": 286
        },
        "id": "FZeiZ4M8T8-M",
        "outputId": "afd2c25e-c5f6-4601-82d9-172e7ccb5236"
      },
      "execution_count": null,
      "outputs": [
        {
          "output_type": "execute_result",
          "data": {
            "text/plain": [
              "[<matplotlib.lines.Line2D at 0x7f174bb91350>]"
            ]
          },
          "metadata": {},
          "execution_count": 32
        },
        {
          "output_type": "display_data",
          "data": {
            "text/plain": [
              "<Figure size 432x288 with 1 Axes>"
            ],
            "image/png": "[encoded data removed]"
          },
          "metadata": {}
        }
      ]
    },
    {
      "cell_type": "markdown",
      "source": [
        "it shows the effect of buffer ratio on the effective playing time"
      ],
      "metadata": {
        "id": "Dq2lMOikpE0k"
      }
    },
    {
      "cell_type": "code",
      "execution_count": null,
      "metadata": {
        "id": "KuX9Sct9jVJ0"
      },
      "outputs": [],
      "source": [
        "# null values\n",
        "null_values = df.isnull().sum()\n",
        "df_nulls = pd.DataFrame({'Column':null_values.index, 'Nulls':null_values.values})\n",
        "\n",
        "# Count non empty cells\n",
        "df_count = df_nulls\n",
        "df_count = df_count.rename(columns={\"Nulls\": \"Count\"})\n",
        "nb_rows = df.shape[0] # 102256\n",
        "df_count.iloc[:,1] = nb_rows - df_count.iloc[:,1]\n",
        "\n",
        "# count unique cells\n",
        "uniqueValues = df.nunique()\n",
        "df_unique = pd.DataFrame({'Column':uniqueValues.index, 'Unique':uniqueValues.values})\n"
      ]
    },
    {
      "cell_type": "code",
      "source": [],
      "metadata": {
        "id": "uKiisJ6I125k"
      },
      "execution_count": null,
      "outputs": []
    },
    {
      "cell_type": "code",
      "execution_count": null,
      "metadata": {
        "colab": {
          "base_uri": "https://localhost:8080/"
        },
        "id": "5BU7z9Jmjani",
        "outputId": "32441285-ee94-4b9c-9757-211c94799b8f"
      },
      "outputs": [
        {
          "output_type": "stream",
          "name": "stdout",
          "text": [
            "                    Column   Count   Nulls  Unique\n",
            "0                  Column1  102256       0  102256\n",
            "1               Start Time  102256       0   96503\n",
            "2                 Playtime  102256       0    4752\n",
            "3       Effective Playtime  102256       0    4440\n",
            "4            Interruptions  102256       0      43\n",
            "5                Join Time  102256       0    5554\n",
            "6             Buffer Ratio  102256       0    2076\n",
            "7            CDN Node Host   36979   65277     342\n",
            "8          Connection Type  102256       0      19\n",
            "9                   Device  102256       0      15\n",
            "10             Device Type  102256       0      13\n",
            "11                 Browser  102256       0      15\n",
            "12         Browser Version  101411     845      64\n",
            "13                      OS  102256       0       9\n",
            "14              OS Version  102256       0      78\n",
            "15               Device ID  102256       0    1692\n",
            "16         Happiness Value  102255       1       5\n",
            "17         Happiness Score  102256       0    6534\n",
            "18         Playback Stalls  102256       0     425\n",
            "19   Startup Error (Count)  102256       0       2\n",
            "20                 Latency  102256       0   13416\n",
            "21                End Time  102256       0   96251\n",
            "22            Crash Status    1845  100411       2\n",
            "23  End of Playback Status  102255       1       4\n",
            "24               User_ID_N  102256       0     700\n",
            "25                 Title_N  102256       0    1639\n",
            "26               Program_N  102256       0       1\n",
            "27         Device_Vendor_N  102256       0      25\n",
            "28          Device_Model_N  102256       0     164\n",
            "29       Content_TV_Show_N  102256       0    2747\n",
            "30               Country_N  102256       0      15\n",
            "31                  City_N  102256       0     406\n",
            "32                Region_N  102256       0       2\n"
          ]
        }
      ],
      "source": [
        "# merge all together in one dataframe\n",
        "analyzed_df = pd.concat([df_nulls.iloc[:,0], df_count.iloc[:,1], df_nulls.iloc[:,1], df_unique.iloc[:,1]], axis = 1)\n",
        "print(analyzed_df)"
      ]
    },
    {
      "cell_type": "markdown",
      "source": [
        "## Both are categorical: **1st** with strings, **2nd** with numbers, should do one-hot encoding except 'Happiness Score' because it is ordinal\n",
        "\n",
        "'Connection Type', 'Device', 'Device Type', 'Browser', \"Browser Version\", 'OS', \"OS Version\", 'Crash Status', 'End of Playback Status'\n",
        "\n",
        "'Device ID', 'Country_N', 'Region_N'\n",
        "\n",
        "! 'Happiness Score' (will not)\n",
        "\n",
        "! 'Content_TV_Show_N', will be removed due to high number of categories"
      ],
      "metadata": {
        "id": "nxc63VO169Ok"
      }
    },
    {
      "cell_type": "code",
      "source": [
        "df['Interruptions'].value_counts()"
      ],
      "metadata": {
        "id": "5A9WAF74miOj"
      },
      "execution_count": null,
      "outputs": []
    },
    {
      "cell_type": "code",
      "source": [
        "# bringing the Numerical valued attributes names\n",
        "# ====================================================\n",
        "numerics = ['int16', 'int32', 'int64', 'float16', 'float32', 'float64']\n",
        "df.select_dtypes(include=numerics).columns\n",
        "\n",
        "## 19 columns"
      ],
      "metadata": {
        "colab": {
          "base_uri": "https://localhost:8080/"
        },
        "id": "L6XlSHHu5QsY",
        "outputId": "a7e1dd1a-fefd-4415-f918-e588faf7a912"
      },
      "execution_count": null,
      "outputs": [
        {
          "output_type": "execute_result",
          "data": {
            "text/plain": [
              "Index(['Column1', 'Playtime', 'Effective Playtime', 'Interruptions',\n",
              "       'Join Time', 'Buffer Ratio', 'Happiness Score', 'Playback Stalls',\n",
              "       'Startup Error (Count)', 'Latency', 'User_ID_N', 'Title_N', 'Program_N',\n",
              "       'Device_Vendor_N', 'Device_Model_N', 'Content_TV_Show_N', 'Country_N',\n",
              "       'City_N', 'Region_N'],\n",
              "      dtype='object')"
            ]
          },
          "metadata": {},
          "execution_count": 37
        }
      ]
    },
    {
      "cell_type": "code",
      "source": [
        "# bringing the Categorical object valued attributes names\n",
        "# ====================================================\n",
        "df.select_dtypes(include=['object']).columns\n",
        "\n",
        "## 12 columns"
      ],
      "metadata": {
        "colab": {
          "base_uri": "https://localhost:8080/"
        },
        "id": "kfV_-iDw1q4d",
        "outputId": "9df1b469-aae4-4f26-fd61-1ea0ad58412a"
      },
      "execution_count": null,
      "outputs": [
        {
          "output_type": "execute_result",
          "data": {
            "text/plain": [
              "Index(['CDN Node Host', 'Connection Type', 'Device', 'Device Type', 'Browser',\n",
              "       'Browser Version', 'OS', 'OS Version', 'Device ID', 'Happiness Value',\n",
              "       'Crash Status', 'End of Playback Status'],\n",
              "      dtype='object')"
            ]
          },
          "metadata": {},
          "execution_count": 36
        }
      ]
    },
    {
      "cell_type": "markdown",
      "metadata": {
        "id": "3K4cWsbNMn_x"
      },
      "source": [
        "## Data Cleaning"
      ]
    },
    {
      "cell_type": "markdown",
      "metadata": {
        "id": "c-rA9WzKMn_y"
      },
      "source": [
        "remove 'Column1'"
      ]
    },
    {
      "cell_type": "code",
      "execution_count": null,
      "metadata": {
        "id": "sHY7LpVGMn_z"
      },
      "outputs": [],
      "source": [
        "df.drop(['Column1'], axis=1, inplace=True)"
      ]
    },
    {
      "cell_type": "markdown",
      "source": [
        "remove 'Program_N', it adds no value, all Zeros"
      ],
      "metadata": {
        "id": "54vyi9lR8OAL"
      }
    },
    {
      "cell_type": "code",
      "source": [
        "df.drop(['Program_N'], axis=1, inplace=True)"
      ],
      "metadata": {
        "id": "Ah_d3Dbfrudp"
      },
      "execution_count": null,
      "outputs": []
    },
    {
      "cell_type": "markdown",
      "source": [
        "remove 'Playtime' due to high correlation with 'Effective Playtime'"
      ],
      "metadata": {
        "id": "9G7GhtJIsGIf"
      }
    },
    {
      "cell_type": "code",
      "source": [
        "df.drop(['Playtime'], axis=1, inplace=True)"
      ],
      "metadata": {
        "id": "i3gjgzcUsFHL"
      },
      "execution_count": null,
      "outputs": []
    },
    {
      "cell_type": "markdown",
      "source": [
        "remove 'CDN Node Host' due to high percentage of missing values"
      ],
      "metadata": {
        "id": "kp5sG0Kwt45z"
      }
    },
    {
      "cell_type": "code",
      "source": [
        "df.drop(['CDN Node Host'], axis=1, inplace=True)"
      ],
      "metadata": {
        "id": "Sq6HRnLAtxBI"
      },
      "execution_count": null,
      "outputs": []
    },
    {
      "cell_type": "markdown",
      "source": [
        "remove ' Happiness Value' as  Happiness score exists"
      ],
      "metadata": {
        "id": "U1DDClj74TxB"
      }
    },
    {
      "cell_type": "code",
      "source": [
        "df.drop(['Happiness Value'], axis=1, inplace=True)"
      ],
      "metadata": {
        "id": "HzDHiN-04T-_"
      },
      "execution_count": null,
      "outputs": []
    },
    {
      "cell_type": "markdown",
      "source": [
        "remove 'Start Time', 'End Time'\n",
        "Because this in this approuch will not use time series in ADetection "
      ],
      "metadata": {
        "id": "eIF3OS7E0vA8"
      }
    },
    {
      "cell_type": "code",
      "source": [
        "df.drop(['Start Time'], axis=1, inplace=True)\n",
        "df.drop(['End Time'], axis=1, inplace=True)"
      ],
      "metadata": {
        "id": "Eu5CTJoc0uaj"
      },
      "execution_count": null,
      "outputs": []
    },
    {
      "cell_type": "markdown",
      "source": [
        "Removing 'Content_TV_Show_N' due to the high cardinality"
      ],
      "metadata": {
        "id": "9TTmBMy3pF4U"
      }
    },
    {
      "cell_type": "code",
      "source": [
        "df.drop(['Content_TV_Show_N'], axis=1, inplace=True)"
      ],
      "metadata": {
        "id": "GG-yDDEKpFmA"
      },
      "execution_count": null,
      "outputs": []
    },
    {
      "cell_type": "markdown",
      "source": [
        "keeping the 'Crash Status' as the empty values means no crash happened"
      ],
      "metadata": {
        "id": "CF2RSWozuIFJ"
      }
    },
    {
      "cell_type": "code",
      "source": [
        "df['Crash Status'].value_counts()"
      ],
      "metadata": {
        "colab": {
          "base_uri": "https://localhost:8080/"
        },
        "id": "T0JRsuBNp7YB",
        "outputId": "e14d73bc-bc85-4d06-89d7-783e041cf35f"
      },
      "execution_count": null,
      "outputs": [
        {
          "output_type": "execute_result",
          "data": {
            "text/plain": [
              "Startup Error Crash      1276\n",
              "In Stream Error Crash     569\n",
              "Name: Crash Status, dtype: int64"
            ]
          },
          "metadata": {},
          "execution_count": 49
        }
      ]
    },
    {
      "cell_type": "markdown",
      "source": [
        "# filling missing data"
      ],
      "metadata": {
        "id": "_OlEi2pDz8rk"
      }
    },
    {
      "cell_type": "code",
      "source": [
        "df['Browser Version'].fillna(df['Browser Version'].mode()[0], inplace = True)"
      ],
      "metadata": {
        "id": "CPXnraGPz8X2"
      },
      "execution_count": null,
      "outputs": []
    },
    {
      "cell_type": "code",
      "source": [
        "df['Crash Status'] = df['Crash Status'].fillna('no crash')"
      ],
      "metadata": {
        "id": "Wo-wR95i2Ioz"
      },
      "execution_count": null,
      "outputs": []
    },
    {
      "cell_type": "code",
      "source": [
        "df['End of Playback Status'].fillna(df['End of Playback Status'].mode()[0], inplace = True)"
      ],
      "metadata": {
        "id": "e9RebEF01o0j"
      },
      "execution_count": null,
      "outputs": []
    },
    {
      "cell_type": "markdown",
      "source": [
        "# Milestone"
      ],
      "metadata": {
        "id": "z09zZ5C3tsMp"
      }
    },
    {
      "cell_type": "code",
      "source": [
        "# null values\n",
        "null_values = df.isnull().sum()\n",
        "df_nulls = pd.DataFrame({'Column':null_values.index, 'Nulls':null_values.values})\n",
        "\n",
        "# Count non empty cells\n",
        "df_count = df_nulls\n",
        "df_count = df_count.rename(columns={\"Nulls\": \"Count\"})\n",
        "nb_rows = df.shape[0] # 102256\n",
        "df_count.iloc[:,1] = nb_rows - df_count.iloc[:,1]\n",
        "\n",
        "# count unique cells\n",
        "uniqueValues = df.nunique()\n",
        "df_unique = pd.DataFrame({'Column':uniqueValues.index, 'Unique':uniqueValues.values})"
      ],
      "metadata": {
        "id": "qT0Rsfn42tJE"
      },
      "execution_count": null,
      "outputs": []
    },
    {
      "cell_type": "code",
      "source": [
        "# merge all together in one dataframe\n",
        "analyzed_df = pd.concat([df_nulls.iloc[:,0], df_count.iloc[:,1], df_nulls.iloc[:,1], df_unique.iloc[:,1]], axis = 1)\n",
        "print(analyzed_df)"
      ],
      "metadata": {
        "colab": {
          "base_uri": "https://localhost:8080/"
        },
        "id": "d3c0WZPD2wvB",
        "outputId": "760c70c6-a957-404d-c02d-3c077bfac46c"
      },
      "execution_count": null,
      "outputs": [
        {
          "output_type": "stream",
          "name": "stdout",
          "text": [
            "                    Column   Count  Nulls  Unique\n",
            "0       Effective Playtime  102256      0    4440\n",
            "1            Interruptions  102256      0      43\n",
            "2                Join Time  102256      0    5554\n",
            "3             Buffer Ratio  102256      0    2076\n",
            "4          Connection Type  102256      0      19\n",
            "5                   Device  102256      0      15\n",
            "6              Device Type  102256      0      13\n",
            "7                  Browser  102256      0      15\n",
            "8          Browser Version  102256      0      64\n",
            "9                       OS  102256      0       9\n",
            "10              OS Version  102256      0      78\n",
            "11               Device ID  102256      0    1692\n",
            "12         Happiness Score  102256      0    6534\n",
            "13         Playback Stalls  102256      0     425\n",
            "14   Startup Error (Count)  102256      0       2\n",
            "15                 Latency  102256      0   13416\n",
            "16            Crash Status  102256      0       3\n",
            "17  End of Playback Status  102256      0       4\n",
            "18               User_ID_N  102256      0     700\n",
            "19                 Title_N  102256      0    1639\n",
            "20         Device_Vendor_N  102256      0      25\n",
            "21          Device_Model_N  102256      0     164\n",
            "22               Country_N  102256      0      15\n",
            "23                  City_N  102256      0     406\n",
            "24                Region_N  102256      0       2\n"
          ]
        }
      ]
    },
    {
      "cell_type": "code",
      "source": [
        "df_2 = df.copy() "
      ],
      "metadata": {
        "id": "kQUIe8-mtrH7"
      },
      "execution_count": null,
      "outputs": []
    },
    {
      "cell_type": "code",
      "source": [
        "# df = df_2"
      ],
      "metadata": {
        "id": "Keh5Gz4I8s14"
      },
      "execution_count": null,
      "outputs": []
    },
    {
      "cell_type": "markdown",
      "source": [
        "# One-hot Encoding"
      ],
      "metadata": {
        "id": "betoKIVG1HV0"
      }
    },
    {
      "cell_type": "code",
      "source": [
        "# to be encoded\n",
        "df_categorical_fields_one_hot_encod = ['Connection Type', 'Device', 'Device Type', 'Browser', \"Browser Version\", 'OS', \"OS Version\", 'Crash Status', 'End of Playback Status','Device ID' ,'Country_N', 'Region_N']"
      ],
      "metadata": {
        "id": "_JG19SaquBD4"
      },
      "execution_count": null,
      "outputs": []
    },
    {
      "cell_type": "code",
      "source": [
        "df.shape"
      ],
      "metadata": {
        "colab": {
          "base_uri": "https://localhost:8080/"
        },
        "id": "ZlCgFMhzv4Dz",
        "outputId": "edd497d8-f951-4a96-cdd0-c50808e0122b"
      },
      "execution_count": null,
      "outputs": [
        {
          "output_type": "execute_result",
          "data": {
            "text/plain": [
              "(102256, 25)"
            ]
          },
          "metadata": {},
          "execution_count": 73
        }
      ]
    },
    {
      "cell_type": "code",
      "source": [
        "#creating instance of one-hot-encoder\n",
        "encoder = OneHotEncoder(handle_unknown='ignore')\n",
        "\n",
        "# One-hot-encode the categorical columns.\n",
        "enc_package_type = pd.DataFrame(encoder.fit_transform(df[df_categorical_fields_one_hot_encod]).toarray())\n",
        "\n",
        "#merge one-hot encoded columns back with original DataFrame\n",
        "df = df_2.join(enc_package_type)"
      ],
      "metadata": {
        "id": "e2MM0VzX7dQO"
      },
      "execution_count": null,
      "outputs": []
    },
    {
      "cell_type": "code",
      "source": [
        "df.shape"
      ],
      "metadata": {
        "colab": {
          "base_uri": "https://localhost:8080/"
        },
        "id": "mivSUeo7wH8e",
        "outputId": "cd604780-d386-407a-ecff-2b200182813a"
      },
      "execution_count": null,
      "outputs": [
        {
          "output_type": "execute_result",
          "data": {
            "text/plain": [
              "(102256, 1954)"
            ]
          },
          "metadata": {},
          "execution_count": 75
        }
      ]
    },
    {
      "cell_type": "code",
      "source": [
        "# drop the features that was encoeded from\n",
        "df.drop(df_categorical_fields_one_hot_encod, axis=1 ,inplace=True)"
      ],
      "metadata": {
        "id": "DFsrRDhCvnBc"
      },
      "execution_count": null,
      "outputs": []
    },
    {
      "cell_type": "code",
      "source": [
        "df.shape"
      ],
      "metadata": {
        "colab": {
          "base_uri": "https://localhost:8080/"
        },
        "id": "wIHXXeH4wSge",
        "outputId": "9ad25f81-c8c6-4f3e-f044-588bc536dd4d"
      },
      "execution_count": null,
      "outputs": [
        {
          "output_type": "execute_result",
          "data": {
            "text/plain": [
              "(102256, 1942)"
            ]
          },
          "metadata": {},
          "execution_count": 77
        }
      ]
    },
    {
      "cell_type": "code",
      "source": [
        "df"
      ],
      "metadata": {
        "colab": {
          "base_uri": "https://localhost:8080/",
          "height": 522
        },
        "id": "vJ91mHk270gD",
        "outputId": "b519daf2-8b8b-4a51-a3ea-84c72aba6543"
      },
      "execution_count": null,
      "outputs": [
        {
          "output_type": "execute_result",
          "data": {
            "text/plain": [
              "        Effective Playtime  Interruptions  Join Time  Buffer Ratio  \\\n",
              "0                       10              0       0.88          0.00   \n",
              "1                       72              0       1.17          0.00   \n",
              "2                       20              0       1.13          0.00   \n",
              "3                        0              0       0.00          0.00   \n",
              "4                        0              0       0.00          0.00   \n",
              "...                    ...            ...        ...           ...   \n",
              "102251                   0              0       0.00          0.00   \n",
              "102252               16581              0       0.99          0.00   \n",
              "102253                   0              0       0.00          0.00   \n",
              "102254               65115              2       6.10          0.00   \n",
              "102255               75717              0     120.00          0.00   \n",
              "\n",
              "        Happiness Score  Playback Stalls  Startup Error (Count)  Latency  \\\n",
              "0                  7.39             0.00                      0    19504   \n",
              "1                  9.40             0.00                      0    19033   \n",
              "2                  7.00             0.00                      0    19071   \n",
              "3                  0.00             0.00                      0        0   \n",
              "4                  0.00             0.00                      0        0   \n",
              "...                 ...              ...                    ...      ...   \n",
              "102251             0.00             0.00                      0        0   \n",
              "102252            10.00             0.00                      0    18191   \n",
              "102253             0.00             0.00                      0        0   \n",
              "102254             7.46             0.00                      0    27550   \n",
              "102255             0.00             0.00                      1    36285   \n",
              "\n",
              "        User_ID_N  Title_N  ...  1919  1920  1921  1922  1923  1924  1925  \\\n",
              "0             564      784  ...  0.00  0.00  0.00  0.00  0.00  0.00  0.00   \n",
              "1             480        1  ...  0.00  0.00  0.00  0.00  0.00  0.00  0.00   \n",
              "2             346      786  ...  0.00  0.00  0.00  0.00  0.00  0.00  0.00   \n",
              "3             346      997  ...  0.00  0.00  0.00  0.00  0.00  0.00  0.00   \n",
              "4             346      997  ...  0.00  0.00  0.00  0.00  0.00  0.00  0.00   \n",
              "...           ...      ...  ...   ...   ...   ...   ...   ...   ...   ...   \n",
              "102251        570     1504  ...  0.00  0.00  0.00  0.00  0.00  0.00  0.00   \n",
              "102252        475     1014  ...  0.00  0.00  0.00  0.00  0.00  0.00  0.00   \n",
              "102253        249     1076  ...  0.00  0.00  0.00  0.00  0.00  0.00  0.00   \n",
              "102254        622     1437  ...  0.00  0.00  0.00  0.00  0.00  0.00  0.00   \n",
              "102255        101      902  ...  0.00  0.00  0.00  0.00  0.00  0.00  0.00   \n",
              "\n",
              "        1926  1927  1928  \n",
              "0       0.00  1.00  0.00  \n",
              "1       0.00  1.00  0.00  \n",
              "2       0.00  1.00  0.00  \n",
              "3       0.00  1.00  0.00  \n",
              "4       0.00  1.00  0.00  \n",
              "...      ...   ...   ...  \n",
              "102251  0.00  1.00  0.00  \n",
              "102252  0.00  1.00  0.00  \n",
              "102253  0.00  1.00  0.00  \n",
              "102254  0.00  1.00  0.00  \n",
              "102255  0.00  1.00  0.00  \n",
              "\n",
              "[102256 rows x 1942 columns]"
            ],
            "text/html": [
              "\n",
              "  <div id=\"df-8b72a618-e619-4eeb-9b7f-96cee1878f0d\">\n",
              "    <div class=\"colab-df-container\">\n",
              "      <div>\n",
              "<style scoped>\n",
              "    .dataframe tbody tr th:only-of-type {\n",
              "        vertical-align: middle;\n",
              "    }\n",
              "\n",
              "    .dataframe tbody tr th {\n",
              "        vertical-align: top;\n",
              "    }\n",
              "\n",
              "    .dataframe thead th {\n",
              "        text-align: right;\n",
              "    }\n",
              "</style>\n",
              "<table border=\"1\" class=\"dataframe\">\n",
              "  <thead>\n",
              "    <tr style=\"text-align: right;\">\n",
              "      <th></th>\n",
              "      <th>Effective Playtime</th>\n",
              "      <th>Interruptions</th>\n",
              "      <th>Join Time</th>\n",
              "      <th>Buffer Ratio</th>\n",
              "      <th>Happiness Score</th>\n",
              "      <th>Playback Stalls</th>\n",
              "      <th>Startup Error (Count)</th>\n",
              "      <th>Latency</th>\n",
              "      <th>User_ID_N</th>\n",
              "      <th>Title_N</th>\n",
              "      <th>...</th>\n",
              "      <th>1919</th>\n",
              "      <th>1920</th>\n",
              "      <th>1921</th>\n",
              "      <th>1922</th>\n",
              "      <th>1923</th>\n",
              "      <th>1924</th>\n",
              "      <th>1925</th>\n",
              "      <th>1926</th>\n",
              "      <th>1927</th>\n",
              "      <th>1928</th>\n",
              "    </tr>\n",
              "  </thead>\n",
              "  <tbody>\n",
              "    <tr>\n",
              "      <th>0</th>\n",
              "      <td>10</td>\n",
              "      <td>0</td>\n",
              "      <td>0.88</td>\n",
              "      <td>0.00</td>\n",
              "      <td>7.39</td>\n",
              "      <td>0.00</td>\n",
              "      <td>0</td>\n",
              "      <td>19504</td>\n",
              "      <td>564</td>\n",
              "      <td>784</td>\n",
              "      <td>...</td>\n",
              "      <td>0.00</td>\n",
              "      <td>0.00</td>\n",
              "      <td>0.00</td>\n",
              "      <td>0.00</td>\n",
              "      <td>0.00</td>\n",
              "      <td>0.00</td>\n",
              "      <td>0.00</td>\n",
              "      <td>0.00</td>\n",
              "      <td>1.00</td>\n",
              "      <td>0.00</td>\n",
              "    </tr>\n",
              "    <tr>\n",
              "      <th>1</th>\n",
              "      <td>72</td>\n",
              "      <td>0</td>\n",
              "      <td>1.17</td>\n",
              "      <td>0.00</td>\n",
              "      <td>9.40</td>\n",
              "      <td>0.00</td>\n",
              "      <td>0</td>\n",
              "      <td>19033</td>\n",
              "      <td>480</td>\n",
              "      <td>1</td>\n",
              "      <td>...</td>\n",
              "      <td>0.00</td>\n",
              "      <td>0.00</td>\n",
              "      <td>0.00</td>\n",
              "      <td>0.00</td>\n",
              "      <td>0.00</td>\n",
              "      <td>0.00</td>\n",
              "      <td>0.00</td>\n",
              "      <td>0.00</td>\n",
              "      <td>1.00</td>\n",
              "      <td>0.00</td>\n",
              "    </tr>\n",
              "    <tr>\n",
              "      <th>2</th>\n",
              "      <td>20</td>\n",
              "      <td>0</td>\n",
              "      <td>1.13</td>\n",
              "      <td>0.00</td>\n",
              "      <td>7.00</td>\n",
              "      <td>0.00</td>\n",
              "      <td>0</td>\n",
              "      <td>19071</td>\n",
              "      <td>346</td>\n",
              "      <td>786</td>\n",
              "      <td>...</td>\n",
              "      <td>0.00</td>\n",
              "      <td>0.00</td>\n",
              "      <td>0.00</td>\n",
              "      <td>0.00</td>\n",
              "      <td>0.00</td>\n",
              "      <td>0.00</td>\n",
              "      <td>0.00</td>\n",
              "      <td>0.00</td>\n",
              "      <td>1.00</td>\n",
              "      <td>0.00</td>\n",
              "    </tr>\n",
              "    <tr>\n",
              "      <th>3</th>\n",
              "      <td>0</td>\n",
              "      <td>0</td>\n",
              "      <td>0.00</td>\n",
              "      <td>0.00</td>\n",
              "      <td>0.00</td>\n",
              "      <td>0.00</td>\n",
              "      <td>0</td>\n",
              "      <td>0</td>\n",
              "      <td>346</td>\n",
              "      <td>997</td>\n",
              "      <td>...</td>\n",
              "      <td>0.00</td>\n",
              "      <td>0.00</td>\n",
              "      <td>0.00</td>\n",
              "      <td>0.00</td>\n",
              "      <td>0.00</td>\n",
              "      <td>0.00</td>\n",
              "      <td>0.00</td>\n",
              "      <td>0.00</td>\n",
              "      <td>1.00</td>\n",
              "      <td>0.00</td>\n",
              "    </tr>\n",
              "    <tr>\n",
              "      <th>4</th>\n",
              "      <td>0</td>\n",
              "      <td>0</td>\n",
              "      <td>0.00</td>\n",
              "      <td>0.00</td>\n",
              "      <td>0.00</td>\n",
              "      <td>0.00</td>\n",
              "      <td>0</td>\n",
              "      <td>0</td>\n",
              "      <td>346</td>\n",
              "      <td>997</td>\n",
              "      <td>...</td>\n",
              "      <td>0.00</td>\n",
              "      <td>0.00</td>\n",
              "      <td>0.00</td>\n",
              "      <td>0.00</td>\n",
              "      <td>0.00</td>\n",
              "      <td>0.00</td>\n",
              "      <td>0.00</td>\n",
              "      <td>0.00</td>\n",
              "      <td>1.00</td>\n",
              "      <td>0.00</td>\n",
              "    </tr>\n",
              "    <tr>\n",
              "      <th>...</th>\n",
              "      <td>...</td>\n",
              "      <td>...</td>\n",
              "      <td>...</td>\n",
              "      <td>...</td>\n",
              "      <td>...</td>\n",
              "      <td>...</td>\n",
              "      <td>...</td>\n",
              "      <td>...</td>\n",
              "      <td>...</td>\n",
              "      <td>...</td>\n",
              "      <td>...</td>\n",
              "      <td>...</td>\n",
              "      <td>...</td>\n",
              "      <td>...</td>\n",
              "      <td>...</td>\n",
              "      <td>...</td>\n",
              "      <td>...</td>\n",
              "      <td>...</td>\n",
              "      <td>...</td>\n",
              "      <td>...</td>\n",
              "      <td>...</td>\n",
              "    </tr>\n",
              "    <tr>\n",
              "      <th>102251</th>\n",
              "      <td>0</td>\n",
              "      <td>0</td>\n",
              "      <td>0.00</td>\n",
              "      <td>0.00</td>\n",
              "      <td>0.00</td>\n",
              "      <td>0.00</td>\n",
              "      <td>0</td>\n",
              "      <td>0</td>\n",
              "      <td>570</td>\n",
              "      <td>1504</td>\n",
              "      <td>...</td>\n",
              "      <td>0.00</td>\n",
              "      <td>0.00</td>\n",
              "      <td>0.00</td>\n",
              "      <td>0.00</td>\n",
              "      <td>0.00</td>\n",
              "      <td>0.00</td>\n",
              "      <td>0.00</td>\n",
              "      <td>0.00</td>\n",
              "      <td>1.00</td>\n",
              "      <td>0.00</td>\n",
              "    </tr>\n",
              "    <tr>\n",
              "      <th>102252</th>\n",
              "      <td>16581</td>\n",
              "      <td>0</td>\n",
              "      <td>0.99</td>\n",
              "      <td>0.00</td>\n",
              "      <td>10.00</td>\n",
              "      <td>0.00</td>\n",
              "      <td>0</td>\n",
              "      <td>18191</td>\n",
              "      <td>475</td>\n",
              "      <td>1014</td>\n",
              "      <td>...</td>\n",
              "      <td>0.00</td>\n",
              "      <td>0.00</td>\n",
              "      <td>0.00</td>\n",
              "      <td>0.00</td>\n",
              "      <td>0.00</td>\n",
              "      <td>0.00</td>\n",
              "      <td>0.00</td>\n",
              "      <td>0.00</td>\n",
              "      <td>1.00</td>\n",
              "      <td>0.00</td>\n",
              "    </tr>\n",
              "    <tr>\n",
              "      <th>102253</th>\n",
              "      <td>0</td>\n",
              "      <td>0</td>\n",
              "      <td>0.00</td>\n",
              "      <td>0.00</td>\n",
              "      <td>0.00</td>\n",
              "      <td>0.00</td>\n",
              "      <td>0</td>\n",
              "      <td>0</td>\n",
              "      <td>249</td>\n",
              "      <td>1076</td>\n",
              "      <td>...</td>\n",
              "      <td>0.00</td>\n",
              "      <td>0.00</td>\n",
              "      <td>0.00</td>\n",
              "      <td>0.00</td>\n",
              "      <td>0.00</td>\n",
              "      <td>0.00</td>\n",
              "      <td>0.00</td>\n",
              "      <td>0.00</td>\n",
              "      <td>1.00</td>\n",
              "      <td>0.00</td>\n",
              "    </tr>\n",
              "    <tr>\n",
              "      <th>102254</th>\n",
              "      <td>65115</td>\n",
              "      <td>2</td>\n",
              "      <td>6.10</td>\n",
              "      <td>0.00</td>\n",
              "      <td>7.46</td>\n",
              "      <td>0.00</td>\n",
              "      <td>0</td>\n",
              "      <td>27550</td>\n",
              "      <td>622</td>\n",
              "      <td>1437</td>\n",
              "      <td>...</td>\n",
              "      <td>0.00</td>\n",
              "      <td>0.00</td>\n",
              "      <td>0.00</td>\n",
              "      <td>0.00</td>\n",
              "      <td>0.00</td>\n",
              "      <td>0.00</td>\n",
              "      <td>0.00</td>\n",
              "      <td>0.00</td>\n",
              "      <td>1.00</td>\n",
              "      <td>0.00</td>\n",
              "    </tr>\n",
              "    <tr>\n",
              "      <th>102255</th>\n",
              "      <td>75717</td>\n",
              "      <td>0</td>\n",
              "      <td>120.00</td>\n",
              "      <td>0.00</td>\n",
              "      <td>0.00</td>\n",
              "      <td>0.00</td>\n",
              "      <td>1</td>\n",
              "      <td>36285</td>\n",
              "      <td>101</td>\n",
              "      <td>902</td>\n",
              "      <td>...</td>\n",
              "      <td>0.00</td>\n",
              "      <td>0.00</td>\n",
              "      <td>0.00</td>\n",
              "      <td>0.00</td>\n",
              "      <td>0.00</td>\n",
              "      <td>0.00</td>\n",
              "      <td>0.00</td>\n",
              "      <td>0.00</td>\n",
              "      <td>1.00</td>\n",
              "      <td>0.00</td>\n",
              "    </tr>\n",
              "  </tbody>\n",
              "</table>\n",
              "<p>102256 rows × 1942 columns</p>\n",
              "</div>\n",
              "      <button class=\"colab-df-convert\" onclick=\"convertToInteractive('df-8b72a618-e619-4eeb-9b7f-96cee1878f0d')\"\n",
              "              title=\"Convert this dataframe to an interactive table.\"\n",
              "              style=\"display:none;\">\n",
              "        \n",
              "  <svg xmlns=\"http://www.w3.org/2000/svg\" height=\"24px\"viewBox=\"0 0 24 24\"\n",
              "       width=\"24px\">\n",
              "    <path d=\"M0 0h24v24H0V0z\" fill=\"none\"/>\n",
              "    <path d=\"M18.56 5.44l.94 2.06.94-2.06 2.06-.94-2.06-.94-.94-2.06-.94 2.06-2.06.94zm-11 1L8.5 8.5l.94-2.06 2.06-.94-2.06-.94L8.5 2.5l-.94 2.06-2.06.94zm10 10l.94 2.06.94-2.06 2.06-.94-2.06-.94-.94-2.06-.94 2.06-2.06.94z\"/><path d=\"M17.41 7.96l-1.37-1.37c-.4-.4-.92-.59-1.43-.59-.52 0-1.04.2-1.43.59L10.3 9.45l-7.72 7.72c-.78.78-.78 2.05 0 2.83L4 21.41c.39.39.9.59 1.41.59.51 0 1.02-.2 1.41-.59l7.78-7.78 2.81-2.81c.8-.78.8-2.07 0-2.86zM5.41 20L4 18.59l7.72-7.72 1.47 1.35L5.41 20z\"/>\n",
              "  </svg>\n",
              "      </button>\n",
              "      \n",
              "  <style>\n",
              "    .colab-df-container {\n",
              "      display:flex;\n",
              "      flex-wrap:wrap;\n",
              "      gap: 12px;\n",
              "    }\n",
              "\n",
              "    .colab-df-convert {\n",
              "      background-color: #E8F0FE;\n",
              "      border: none;\n",
              "      border-radius: 50%;\n",
              "      cursor: pointer;\n",
              "      display: none;\n",
              "      fill: #1967D2;\n",
              "      height: 32px;\n",
              "      padding: 0 0 0 0;\n",
              "      width: 32px;\n",
              "    }\n",
              "\n",
              "    .colab-df-convert:hover {\n",
              "      background-color: #E2EBFA;\n",
              "      box-shadow: 0px 1px 2px rgba(60, 64, 67, 0.3), 0px 1px 3px 1px rgba(60, 64, 67, 0.15);\n",
              "      fill: #174EA6;\n",
              "    }\n",
              "\n",
              "    [theme=dark] .colab-df-convert {\n",
              "      background-color: #3B4455;\n",
              "      fill: #D2E3FC;\n",
              "    }\n",
              "\n",
              "    [theme=dark] .colab-df-convert:hover {\n",
              "      background-color: #434B5C;\n",
              "      box-shadow: 0px 1px 3px 1px rgba(0, 0, 0, 0.15);\n",
              "      filter: drop-shadow(0px 1px 2px rgba(0, 0, 0, 0.3));\n",
              "      fill: #FFFFFF;\n",
              "    }\n",
              "  </style>\n",
              "\n",
              "      <script>\n",
              "        const buttonEl =\n",
              "          document.querySelector('#df-8b72a618-e619-4eeb-9b7f-96cee1878f0d button.colab-df-convert');\n",
              "        buttonEl.style.display =\n",
              "          google.colab.kernel.accessAllowed ? 'block' : 'none';\n",
              "\n",
              "        async function convertToInteractive(key) {\n",
              "          const element = document.querySelector('#df-8b72a618-e619-4eeb-9b7f-96cee1878f0d');\n",
              "          const dataTable =\n",
              "            await google.colab.kernel.invokeFunction('convertToInteractive',\n",
              "                                                     [key], {});\n",
              "          if (!dataTable) return;\n",
              "\n",
              "          const docLinkHtml = 'Like what you see? Visit the ' +\n",
              "            '<a target=\"_blank\" href=https://colab.research.google.com/notebooks/data_table.ipynb>data table notebook</a>'\n",
              "            + ' to learn more about interactive tables.';\n",
              "          element.innerHTML = '';\n",
              "          dataTable['output_type'] = 'display_data';\n",
              "          await google.colab.output.renderOutput(dataTable, element);\n",
              "          const docLink = document.createElement('div');\n",
              "          docLink.innerHTML = docLinkHtml;\n",
              "          element.appendChild(docLink);\n",
              "        }\n",
              "      </script>\n",
              "    </div>\n",
              "  </div>\n",
              "  "
            ]
          },
          "metadata": {},
          "execution_count": 78
        }
      ]
    },
    {
      "cell_type": "markdown",
      "source": [
        "# Milestone"
      ],
      "metadata": {
        "id": "ApcNuiDY3l-K"
      }
    },
    {
      "cell_type": "code",
      "source": [
        "df_3 = df.copy() "
      ],
      "metadata": {
        "id": "SrdcbYb63mlU"
      },
      "execution_count": null,
      "outputs": []
    },
    {
      "cell_type": "markdown",
      "metadata": {
        "id": "tM-KJOXgMn_0"
      },
      "source": [
        "## setup of anomalous detection"
      ]
    },
    {
      "cell_type": "markdown",
      "source": [
        "### min-max scaler for the model"
      ],
      "metadata": {
        "id": "iA4GEE0Y7RAz"
      }
    },
    {
      "cell_type": "code",
      "source": [
        "# MinMaxScaler\n",
        "from sklearn import preprocessing\n",
        "min_max_scaler = preprocessing.MinMaxScaler()\n",
        "df_scaled = min_max_scaler.fit_transform(df)\n",
        "df = pd.DataFrame(df_scaled, columns=df.columns)"
      ],
      "metadata": {
        "colab": {
          "base_uri": "https://localhost:8080/"
        },
        "id": "tglAz03a7QX0",
        "outputId": "39074172-5227-4d64-88d0-1d2bc8e7e3da"
      },
      "execution_count": null,
      "outputs": [
        {
          "output_type": "stream",
          "name": "stderr",
          "text": [
            "/usr/local/lib/python3.7/dist-packages/sklearn/utils/validation.py:1692: FutureWarning: Feature names only support names that are all strings. Got feature names with dtypes: ['int', 'str']. An error will be raised in 1.2.\n",
            "  FutureWarning,\n",
            "/usr/local/lib/python3.7/dist-packages/sklearn/utils/validation.py:1692: FutureWarning: Feature names only support names that are all strings. Got feature names with dtypes: ['int', 'str']. An error will be raised in 1.2.\n",
            "  FutureWarning,\n"
          ]
        }
      ]
    },
    {
      "cell_type": "code",
      "source": [
        "df"
      ],
      "metadata": {
        "id": "z43Um4GJ9BLD"
      },
      "execution_count": null,
      "outputs": []
    },
    {
      "cell_type": "code",
      "execution_count": null,
      "metadata": {
        "scrolled": true,
        "id": "C6iWgaEJMn_0"
      },
      "outputs": [],
      "source": [
        "model =  IsolationForest(n_jobs=-1, n_estimators=200, max_features=3, random_state=42, contamination=0.01)"
      ]
    },
    {
      "cell_type": "code",
      "source": [
        "# "
      ],
      "metadata": {
        "colab": {
          "base_uri": "https://localhost:8080/",
          "height": 450,
          "referenced_widgets": [
            "f721d2c5430c45478f6146b729fd3c3c",
            "9842d0e52a4b477d99aba036fb5622b9",
            "6851cc7637a04561bd42061ad5ef76a2"
          ]
        },
        "id": "PyVI6LoHBt28",
        "outputId": "ba6b0a8c-d0e8-4969-9869-8ab823c112d3"
      },
      "execution_count": null,
      "outputs": [
        {
          "output_type": "stream",
          "name": "stderr",
          "text": [
            "INFO:logs:create_model_container: 1\n",
            "INFO:logs:master_model_container: 1\n",
            "INFO:logs:display_container: 2\n",
            "INFO:logs:IForest(behaviour='new', bootstrap=False, contamination=0.05,\n",
            "    max_features=1.0, max_samples='auto', n_estimators=100, n_jobs=-1,\n",
            "    random_state=7707, verbose=0)\n",
            "INFO:logs:create_model() succesfully completed......................................\n"
          ]
        }
      ]
    },
    {
      "cell_type": "code",
      "source": [
        "# \n"
      ],
      "metadata": {
        "colab": {
          "base_uri": "https://localhost:8080/"
        },
        "id": "wQruGajeCHrp",
        "outputId": "02431a60-bfbf-454f-bf66-0c864f7f9bbb"
      },
      "execution_count": null,
      "outputs": [
        {
          "output_type": "stream",
          "name": "stderr",
          "text": [
            "INFO:logs:Initializing assign_model()\n",
            "INFO:logs:assign_model(model=IForest(behaviour='new', bootstrap=False, contamination=0.05,\n",
            "    max_features=1.0, max_samples='auto', n_estimators=100, n_jobs=-1,\n",
            "    random_state=7707, verbose=0), transformation=False, score=True, verbose=True)\n",
            "INFO:logs:Checking exceptions\n",
            "INFO:logs:Determining Trained Model\n",
            "INFO:logs:Trained Model : Isolation Forest\n",
            "INFO:logs:Copying data\n",
            "INFO:logs:(102256, 34)\n",
            "INFO:logs:assign_model() succesfully completed......................................\n"
          ]
        }
      ]
    },
    {
      "cell_type": "code",
      "source": [
        "# results['Anomaly'].value_counts()"
      ],
      "metadata": {
        "colab": {
          "base_uri": "https://localhost:8080/"
        },
        "id": "Kz0L-FuDCabN",
        "outputId": "da4e0186-7770-482f-e51f-30d471b6a3b4"
      },
      "execution_count": null,
      "outputs": [
        {
          "output_type": "execute_result",
          "data": {
            "text/plain": [
              "0    97143\n",
              "1     5113\n",
              "Name: Anomaly, dtype: int64"
            ]
          },
          "metadata": {},
          "execution_count": 16
        }
      ]
    },
    {
      "cell_type": "code",
      "source": [
        "# results.to_csv('results.csv')\n"
      ],
      "metadata": {
        "id": "rf3WAbipC6w1"
      },
      "execution_count": null,
      "outputs": []
    },
    {
      "cell_type": "code",
      "source": [
        "model.fit(df)"
      ],
      "metadata": {
        "colab": {
          "base_uri": "https://localhost:8080/"
        },
        "id": "vOIAl-wH9OH3",
        "outputId": "010a46bc-bce0-4566-ea98-35b5fabf0243"
      },
      "execution_count": null,
      "outputs": [
        {
          "output_type": "stream",
          "name": "stderr",
          "text": [
            "/usr/local/lib/python3.7/dist-packages/sklearn/utils/validation.py:1692: FutureWarning: Feature names only support names that are all strings. Got feature names with dtypes: ['int', 'str']. An error will be raised in 1.2.\n",
            "  FutureWarning,\n"
          ]
        },
        {
          "output_type": "execute_result",
          "data": {
            "text/plain": [
              "IsolationForest(contamination=0.01, max_features=3, n_estimators=200, n_jobs=-1,\n",
              "                random_state=42)"
            ]
          },
          "metadata": {},
          "execution_count": 84
        }
      ]
    },
    {
      "cell_type": "code",
      "source": [
        "df['Anomaly'] = pd.Series(model.predict(df))"
      ],
      "metadata": {
        "colab": {
          "base_uri": "https://localhost:8080/"
        },
        "id": "UMuKpDV_-QwQ",
        "outputId": "fcb803e1-8388-47a8-949a-8360b4753a63"
      },
      "execution_count": null,
      "outputs": [
        {
          "output_type": "stream",
          "name": "stderr",
          "text": [
            "/usr/local/lib/python3.7/dist-packages/sklearn/utils/validation.py:1692: FutureWarning: Feature names only support names that are all strings. Got feature names with dtypes: ['int', 'str']. An error will be raised in 1.2.\n",
            "  FutureWarning,\n"
          ]
        }
      ]
    },
    {
      "cell_type": "code",
      "source": [
        "df.shape"
      ],
      "metadata": {
        "colab": {
          "base_uri": "https://localhost:8080/"
        },
        "id": "9JfAJpmT-mEI",
        "outputId": "2ab57ed3-9aa3-4114-8997-789c67b8f5ce"
      },
      "execution_count": null,
      "outputs": [
        {
          "output_type": "execute_result",
          "data": {
            "text/plain": [
              "(102256, 1943)"
            ]
          },
          "metadata": {},
          "execution_count": 86
        }
      ]
    },
    {
      "cell_type": "code",
      "source": [
        "df"
      ],
      "metadata": {
        "id": "3tgaMtq6-tVP"
      },
      "execution_count": null,
      "outputs": []
    },
    {
      "cell_type": "code",
      "source": [
        "# Labelling anomalous requests detected by Isolation Forest \n",
        "df['Anomaly'] = df['Anomaly'].map( {1: 0, -1: 1} )\n",
        "df['Anomaly'].value_counts()"
      ],
      "metadata": {
        "colab": {
          "base_uri": "https://localhost:8080/"
        },
        "id": "ajwuiM-R-e5Q",
        "outputId": "a0333239-a5cc-4488-cb83-bc40c605037a"
      },
      "execution_count": null,
      "outputs": [
        {
          "output_type": "execute_result",
          "data": {
            "text/plain": [
              "0    101233\n",
              "1      1023\n",
              "Name: Anomaly, dtype: int64"
            ]
          },
          "metadata": {},
          "execution_count": 88
        }
      ]
    },
    {
      "cell_type": "markdown",
      "source": [
        "#########\n",
        "\n",
        "\n",
        "\n",
        "#########"
      ],
      "metadata": {
        "id": "7kiG1ZTd5V1o"
      }
    }
  ],
  "metadata": {
    "colab": {
      "provenance": []
    },
    "kernelspec": {
      "display_name": "Python 3 (ipykernel)",
      "language": "python",
      "name": "python3"
    },
    "language_info": {
      "codemirror_mode": {
        "name": "ipython",
        "version": 3
      },
      "file_extension": ".py",
      "mimetype": "text/x-python",
      "name": "python",
      "nbconvert_exporter": "python",
      "pygments_lexer": "ipython3",
      "version": "3.9.12"
    },
    "widgets": {
      "application/vnd.jupyter.widget-state+json": {
        "f721d2c5430c45478f6146b729fd3c3c": {
          "model_module": "@jupyter-widgets/controls",
          "model_name": "IntProgressModel",
          "model_module_version": "1.5.0",
          "state": {
            "_dom_classes": [],
            "_model_module": "@jupyter-widgets/controls",
            "_model_module_version": "1.5.0",
            "_model_name": "IntProgressModel",
            "_view_count": null,
            "_view_module": "@jupyter-widgets/controls",
            "_view_module_version": "1.5.0",
            "_view_name": "ProgressView",
            "bar_style": "",
            "description": "Processing: ",
            "description_tooltip": null,
            "layout": "IPY_MODEL_9842d0e52a4b477d99aba036fb5622b9",
            "max": 3,
            "min": 0,
            "orientation": "horizontal",
            "style": "IPY_MODEL_6851cc7637a04561bd42061ad5ef76a2",
            "value": 3
          }
        },
        "9842d0e52a4b477d99aba036fb5622b9": {
          "model_module": "@jupyter-widgets/base",
          "model_name": "LayoutModel",
          "model_module_version": "1.2.0",
          "state": {
            "_model_module": "@jupyter-widgets/base",
            "_model_module_version": "1.2.0",
            "_model_name": "LayoutModel",
            "_view_count": null,
            "_view_module": "@jupyter-widgets/base",
            "_view_module_version": "1.2.0",
            "_view_name": "LayoutView",
            "align_content": null,
            "align_items": null,
            "align_self": null,
            "border": null,
            "bottom": null,
            "display": null,
            "flex": null,
            "flex_flow": null,
            "grid_area": null,
            "grid_auto_columns": null,
            "grid_auto_flow": null,
            "grid_auto_rows": null,
            "grid_column": null,
            "grid_gap": null,
            "grid_row": null,
            "grid_template_areas": null,
            "grid_template_columns": null,
            "grid_template_rows": null,
            "height": null,
            "justify_content": null,
            "justify_items": null,
            "left": null,
            "margin": null,
            "max_height": null,
            "max_width": null,
            "min_height": null,
            "min_width": null,
            "object_fit": null,
            "object_position": null,
            "order": null,
            "overflow": null,
            "overflow_x": null,
            "overflow_y": null,
            "padding": null,
            "right": null,
            "top": null,
            "visibility": null,
            "width": null
          }
        },
        "6851cc7637a04561bd42061ad5ef76a2": {
          "model_module": "@jupyter-widgets/controls",
          "model_name": "ProgressStyleModel",
          "model_module_version": "1.5.0",
          "state": {
            "_model_module": "@jupyter-widgets/controls",
            "_model_module_version": "1.5.0",
            "_model_name": "ProgressStyleModel",
            "_view_count": null,
            "_view_module": "@jupyter-widgets/base",
            "_view_module_version": "1.2.0",
            "_view_name": "StyleView",
            "bar_color": null,
            "description_width": ""
          }
        }
      }
    }
  },
  "nbformat": 4,
  "nbformat_minor": 0
}